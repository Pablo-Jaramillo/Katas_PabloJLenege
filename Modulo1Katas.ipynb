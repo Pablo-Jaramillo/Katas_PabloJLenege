{
 "cells": [
  {
   "cell_type": "code",
   "execution_count": 1,
   "metadata": {},
   "outputs": [
    {
     "name": "stdout",
     "output_type": "stream",
     "text": [
      "Hoy es:  2022-02-12\n",
      "11  parsec, son  35.877159999999996  años luz\n"
     ]
    }
   ],
   "source": [
    "from datetime import date\n",
    "print(\"Hoy es: \", str(date.today()))\n",
    "\n",
    "parsec = 11\n",
    "\n",
    "lightyears = 3.26156 * parsec\n",
    "\n",
    "print(str(parsec),\" parsec, son \", str(lightyears), \" años luz\")\n"
   ]
  }
 ],
 "metadata": {
  "interpreter": {
   "hash": "11a95606ff33ff96523ad5609a2b9df0d37b438684a2166a6b0c4776159ae9de"
  },
  "kernelspec": {
   "display_name": "Python 3.9.0 64-bit",
   "language": "python",
   "name": "python3"
  },
  "language_info": {
   "codemirror_mode": {
    "name": "ipython",
    "version": 3
   },
   "file_extension": ".py",
   "mimetype": "text/x-python",
   "name": "python",
   "nbconvert_exporter": "python",
   "pygments_lexer": "ipython3",
   "version": "3.10.2"
  },
  "orig_nbformat": 4
 },
 "nbformat": 4,
 "nbformat_minor": 2
}
